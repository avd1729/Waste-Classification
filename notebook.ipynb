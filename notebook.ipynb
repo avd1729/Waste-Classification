{
 "cells": [
  {
   "cell_type": "code",
   "execution_count": 1,
   "id": "d2d357e7",
   "metadata": {
    "execution": {
     "iopub.execute_input": "2023-11-18T06:38:19.539557Z",
     "iopub.status.busy": "2023-11-18T06:38:19.538729Z",
     "iopub.status.idle": "2023-11-18T06:38:19.548853Z",
     "shell.execute_reply": "2023-11-18T06:38:19.548120Z"
    },
    "papermill": {
     "duration": 0.017247,
     "end_time": "2023-11-18T06:38:19.550735",
     "exception": false,
     "start_time": "2023-11-18T06:38:19.533488",
     "status": "completed"
    },
    "tags": []
   },
   "outputs": [],
   "source": [
    "import warnings\n",
    "warnings.filterwarnings('ignore')"
   ]
  },
  {
   "cell_type": "code",
   "execution_count": 2,
   "id": "bef2e66d",
   "metadata": {
    "execution": {
     "iopub.execute_input": "2023-11-18T06:38:19.559021Z",
     "iopub.status.busy": "2023-11-18T06:38:19.558412Z",
     "iopub.status.idle": "2023-11-18T06:38:20.258754Z",
     "shell.execute_reply": "2023-11-18T06:38:20.257839Z"
    },
    "papermill": {
     "duration": 0.706825,
     "end_time": "2023-11-18T06:38:20.261214",
     "exception": false,
     "start_time": "2023-11-18T06:38:19.554389",
     "status": "completed"
    },
    "tags": []
   },
   "outputs": [],
   "source": [
    "import numpy as np\n",
    "import pandas as pd"
   ]
  },
  {
   "cell_type": "code",
   "execution_count": 3,
   "id": "f7c14529",
   "metadata": {
    "execution": {
     "iopub.execute_input": "2023-11-18T06:38:20.269246Z",
     "iopub.status.busy": "2023-11-18T06:38:20.268822Z",
     "iopub.status.idle": "2023-11-18T06:38:20.273024Z",
     "shell.execute_reply": "2023-11-18T06:38:20.272264Z"
    },
    "papermill": {
     "duration": 0.010149,
     "end_time": "2023-11-18T06:38:20.274805",
     "exception": false,
     "start_time": "2023-11-18T06:38:20.264656",
     "status": "completed"
    },
    "tags": []
   },
   "outputs": [],
   "source": [
    "train_directory = '/kaggle/input/waste-classif/Data/archive (2)/TRAIN'"
   ]
  },
  {
   "cell_type": "code",
   "execution_count": 4,
   "id": "07d7afba",
   "metadata": {
    "execution": {
     "iopub.execute_input": "2023-11-18T06:38:20.282499Z",
     "iopub.status.busy": "2023-11-18T06:38:20.281804Z",
     "iopub.status.idle": "2023-11-18T06:38:20.285812Z",
     "shell.execute_reply": "2023-11-18T06:38:20.285024Z"
    },
    "papermill": {
     "duration": 0.009774,
     "end_time": "2023-11-18T06:38:20.287673",
     "exception": false,
     "start_time": "2023-11-18T06:38:20.277899",
     "status": "completed"
    },
    "tags": []
   },
   "outputs": [],
   "source": [
    "test_directory = '/kaggle/input/waste-classif/Data/archive (2)/TEST'"
   ]
  },
  {
   "cell_type": "code",
   "execution_count": 5,
   "id": "26ed27b5",
   "metadata": {
    "execution": {
     "iopub.execute_input": "2023-11-18T06:38:20.295401Z",
     "iopub.status.busy": "2023-11-18T06:38:20.294756Z",
     "iopub.status.idle": "2023-11-18T06:38:50.452007Z",
     "shell.execute_reply": "2023-11-18T06:38:50.451096Z"
    },
    "papermill": {
     "duration": 30.163609,
     "end_time": "2023-11-18T06:38:50.454373",
     "exception": false,
     "start_time": "2023-11-18T06:38:20.290764",
     "status": "completed"
    },
    "tags": []
   },
   "outputs": [
    {
     "name": "stdout",
     "output_type": "stream",
     "text": [
      "Found 20545 files belonging to 3 classes.\n"
     ]
    }
   ],
   "source": [
    "import tensorflow as tf\n",
    "\n",
    "dataset = tf.keras.utils.image_dataset_from_directory(\n",
    "    train_directory,\n",
    "    labels=\"inferred\",\n",
    "    label_mode=\"categorical\",\n",
    "    image_size=(128, 128),\n",
    "    batch_size=32,\n",
    "    shuffle=True,\n",
    "    seed=42,\n",
    ")"
   ]
  },
  {
   "cell_type": "code",
   "execution_count": 6,
   "id": "b15cc3d6",
   "metadata": {
    "execution": {
     "iopub.execute_input": "2023-11-18T06:38:50.462462Z",
     "iopub.status.busy": "2023-11-18T06:38:50.462176Z",
     "iopub.status.idle": "2023-11-18T06:38:51.066359Z",
     "shell.execute_reply": "2023-11-18T06:38:51.065624Z"
    },
    "papermill": {
     "duration": 0.610788,
     "end_time": "2023-11-18T06:38:51.068644",
     "exception": false,
     "start_time": "2023-11-18T06:38:50.457856",
     "status": "completed"
    },
    "tags": []
   },
   "outputs": [
    {
     "name": "stdout",
     "output_type": "stream",
     "text": [
      "Found 2528 files belonging to 3 classes.\n"
     ]
    }
   ],
   "source": [
    "validation_dataset = tf.keras.utils.image_dataset_from_directory(\n",
    "    test_directory,\n",
    "    labels=\"inferred\",\n",
    "    label_mode=\"categorical\",\n",
    "    image_size=(128, 128),\n",
    "    batch_size=32,\n",
    "    shuffle=True,\n",
    "    seed=42,\n",
    ")"
   ]
  },
  {
   "cell_type": "code",
   "execution_count": 7,
   "id": "e0a8c2eb",
   "metadata": {
    "execution": {
     "iopub.execute_input": "2023-11-18T06:38:51.076850Z",
     "iopub.status.busy": "2023-11-18T06:38:51.076591Z",
     "iopub.status.idle": "2023-11-18T06:38:51.085249Z",
     "shell.execute_reply": "2023-11-18T06:38:51.084389Z"
    },
    "papermill": {
     "duration": 0.014687,
     "end_time": "2023-11-18T06:38:51.087062",
     "exception": false,
     "start_time": "2023-11-18T06:38:51.072375",
     "status": "completed"
    },
    "tags": []
   },
   "outputs": [],
   "source": [
    "from functools import partial\n",
    "\n",
    "DefaultConv2D = partial(tf.keras.layers.Conv2D, kernel_size=3, strides=1,\n",
    "                        padding=\"same\", kernel_initializer=\"he_normal\",\n",
    "                        use_bias=False)\n",
    "\n",
    "class ResidualUnit(tf.keras.layers.Layer):\n",
    "    def __init__(self, filters, strides=1, activation=\"relu\", **kwargs):\n",
    "        super().__init__(**kwargs)\n",
    "        self.activation = tf.keras.activations.get(activation)\n",
    "        self.main_layers = [\n",
    "            DefaultConv2D(filters, strides=strides),\n",
    "            tf.keras.layers.BatchNormalization(),\n",
    "            self.activation,\n",
    "            DefaultConv2D(filters),\n",
    "            tf.keras.layers.BatchNormalization()\n",
    "        ]\n",
    "        self.skip_layers = []\n",
    "        if strides > 1:\n",
    "            self.skip_layers = [\n",
    "                DefaultConv2D(filters, kernel_size=1, strides=strides),\n",
    "                tf.keras.layers.BatchNormalization()\n",
    "            ]\n",
    "\n",
    "    def call(self, inputs):\n",
    "        Z = inputs\n",
    "        for layer in self.main_layers:\n",
    "            Z = layer(Z)\n",
    "        skip_Z = inputs\n",
    "        for layer in self.skip_layers:\n",
    "            skip_Z = layer(skip_Z)\n",
    "        return self.activation(Z + skip_Z)"
   ]
  },
  {
   "cell_type": "code",
   "execution_count": 8,
   "id": "bea06d96",
   "metadata": {
    "execution": {
     "iopub.execute_input": "2023-11-18T06:38:51.094636Z",
     "iopub.status.busy": "2023-11-18T06:38:51.094382Z",
     "iopub.status.idle": "2023-11-18T06:38:52.105626Z",
     "shell.execute_reply": "2023-11-18T06:38:52.104612Z"
    },
    "papermill": {
     "duration": 1.017482,
     "end_time": "2023-11-18T06:38:52.107879",
     "exception": false,
     "start_time": "2023-11-18T06:38:51.090397",
     "status": "completed"
    },
    "tags": []
   },
   "outputs": [],
   "source": [
    "model = tf.keras.Sequential([\n",
    "    DefaultConv2D(64, kernel_size=7, strides=2, input_shape=[128, 128, 3]),\n",
    "    tf.keras.layers.BatchNormalization(),\n",
    "    tf.keras.layers.Activation(\"relu\"),\n",
    "    tf.keras.layers.MaxPool2D(pool_size=3, strides=2, padding=\"same\"),\n",
    "])\n",
    "prev_filters = 64\n",
    "for filters in [64] * 3 + [128] * 4 + [256] * 6 + [512] * 3:\n",
    "    strides = 1 if filters == prev_filters else 2\n",
    "    model.add(ResidualUnit(filters, strides=strides))\n",
    "    prev_filters = filters\n",
    "\n",
    "model.add(tf.keras.layers.GlobalAvgPool2D())\n",
    "model.add(tf.keras.layers.Flatten())\n",
    "model.add(tf.keras.layers.Dense(3, activation=\"softmax\"))"
   ]
  },
  {
   "cell_type": "code",
   "execution_count": 9,
   "id": "173d6db2",
   "metadata": {
    "execution": {
     "iopub.execute_input": "2023-11-18T06:38:52.116631Z",
     "iopub.status.busy": "2023-11-18T06:38:52.116328Z",
     "iopub.status.idle": "2023-11-18T06:50:30.236976Z",
     "shell.execute_reply": "2023-11-18T06:50:30.236110Z"
    },
    "papermill": {
     "duration": 698.12723,
     "end_time": "2023-11-18T06:50:30.239095",
     "exception": false,
     "start_time": "2023-11-18T06:38:52.111865",
     "status": "completed"
    },
    "tags": []
   },
   "outputs": [
    {
     "name": "stdout",
     "output_type": "stream",
     "text": [
      "Epoch 1/15\n",
      "643/643 [==============================] - 68s 71ms/step - loss: 0.5215 - accuracy: 0.7907 - val_loss: 13.1233 - val_accuracy: 0.4782\n",
      "Epoch 2/15\n",
      "643/643 [==============================] - 45s 69ms/step - loss: 0.4183 - accuracy: 0.8356 - val_loss: 14.0712 - val_accuracy: 0.4525\n",
      "Epoch 3/15\n",
      "643/643 [==============================] - 45s 70ms/step - loss: 0.3818 - accuracy: 0.8466 - val_loss: 0.5265 - val_accuracy: 0.8782\n",
      "Epoch 4/15\n",
      "643/643 [==============================] - 45s 70ms/step - loss: 0.3606 - accuracy: 0.8573 - val_loss: 12.0154 - val_accuracy: 0.6416\n",
      "Epoch 5/15\n",
      "643/643 [==============================] - 45s 70ms/step - loss: 0.3471 - accuracy: 0.8634 - val_loss: 2.9199 - val_accuracy: 0.6250\n",
      "Epoch 6/15\n",
      "643/643 [==============================] - 45s 70ms/step - loss: 0.3271 - accuracy: 0.8702 - val_loss: 0.3609 - val_accuracy: 0.8623\n",
      "Epoch 7/15\n",
      "643/643 [==============================] - 45s 70ms/step - loss: 0.3160 - accuracy: 0.8772 - val_loss: 0.4240 - val_accuracy: 0.8081\n",
      "Epoch 8/15\n",
      "643/643 [==============================] - 45s 70ms/step - loss: 0.3074 - accuracy: 0.8796 - val_loss: 0.5496 - val_accuracy: 0.8786\n",
      "Epoch 9/15\n",
      "643/643 [==============================] - 45s 70ms/step - loss: 0.2914 - accuracy: 0.8867 - val_loss: 0.4218 - val_accuracy: 0.8536\n",
      "Epoch 10/15\n",
      "643/643 [==============================] - 45s 70ms/step - loss: 0.2853 - accuracy: 0.8881 - val_loss: 0.4462 - val_accuracy: 0.8616\n",
      "Epoch 11/15\n",
      "643/643 [==============================] - 45s 70ms/step - loss: 0.2705 - accuracy: 0.8925 - val_loss: 0.6074 - val_accuracy: 0.8418\n",
      "Epoch 12/15\n",
      "643/643 [==============================] - 45s 70ms/step - loss: 0.2604 - accuracy: 0.8947 - val_loss: 0.3410 - val_accuracy: 0.8766\n",
      "Epoch 13/15\n",
      "643/643 [==============================] - 45s 70ms/step - loss: 0.2496 - accuracy: 0.9008 - val_loss: 0.8499 - val_accuracy: 0.6709\n",
      "Epoch 14/15\n",
      "643/643 [==============================] - 45s 70ms/step - loss: 0.2308 - accuracy: 0.9079 - val_loss: 0.4649 - val_accuracy: 0.8196\n",
      "Epoch 15/15\n",
      "643/643 [==============================] - 45s 70ms/step - loss: 0.2218 - accuracy: 0.9141 - val_loss: 0.4559 - val_accuracy: 0.8172\n"
     ]
    }
   ],
   "source": [
    "optimizer = tf.keras.optimizers.RMSprop(learning_rate=0.001 , rho=0.9)\n",
    "model.compile(loss=\"categorical_crossentropy\", optimizer=optimizer,\n",
    "              metrics=[\"accuracy\"])\n",
    "history = model.fit(\n",
    "    dataset,\n",
    "    validation_data=validation_dataset,\n",
    "    epochs=15\n",
    ")"
   ]
  }
 ],
 "metadata": {
  "kaggle": {
   "accelerator": "nvidiaTeslaT4",
   "dataSources": [
    {
     "datasetId": 4019818,
     "sourceId": 6993728,
     "sourceType": "datasetVersion"
    }
   ],
   "dockerImageVersionId": 30588,
   "isGpuEnabled": true,
   "isInternetEnabled": true,
   "language": "python",
   "sourceType": "notebook"
  },
  "kernelspec": {
   "display_name": "Python 3",
   "language": "python",
   "name": "python3"
  },
  "language_info": {
   "codemirror_mode": {
    "name": "ipython",
    "version": 3
   },
   "file_extension": ".py",
   "mimetype": "text/x-python",
   "name": "python",
   "nbconvert_exporter": "python",
   "pygments_lexer": "ipython3",
   "version": "3.10.12"
  },
  "papermill": {
   "default_parameters": {},
   "duration": 737.949241,
   "end_time": "2023-11-18T06:50:34.047855",
   "environment_variables": {},
   "exception": null,
   "input_path": "__notebook__.ipynb",
   "output_path": "__notebook__.ipynb",
   "parameters": {},
   "start_time": "2023-11-18T06:38:16.098614",
   "version": "2.4.0"
  }
 },
 "nbformat": 4,
 "nbformat_minor": 5
}
